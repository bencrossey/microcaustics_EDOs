{
 "cells": [
  {
   "cell_type": "code",
   "execution_count": 44,
   "metadata": {},
   "outputs": [],
   "source": [
    "import pandas as pd\n",
    "import numpy as np\n",
    "\n",
    "import matplotlib.pyplot as plt \n",
    "import scienceplots\n",
    "\n",
    "from scipy.interpolate import interp1d\n",
    "from scipy.differentiate import derivative\n",
    "from scipy.optimize import root_scalar\n",
    "\n",
    "from multiprocessing import Pool\n",
    "\n",
    "plt.style.use(['science'])"
   ]
  },
  {
   "cell_type": "code",
   "execution_count": 45,
   "metadata": {},
   "outputs": [],
   "source": [
    "# top-level callable class — picklable by multiprocessing\n",
    "class MassDerivative:\n",
    "    def __init__(self, m_callable):\n",
    "        # m_callable should be an interp1d-like object\n",
    "        self.m = m_callable\n",
    "\n",
    "    def __call__(self, tau):\n",
    "        return derivative(self.m, tau, maxiter=2, order=3).df"
   ]
  },
  {
   "cell_type": "code",
   "execution_count": 46,
   "metadata": {},
   "outputs": [],
   "source": [
    "data = pd.read_csv('mt_boson_list.csv', header=None) #boson star mass profile\n",
    "data.iloc[:, 1] = data.iloc[:, 1].astype(str).str.replace(r'\\*\\^', 'e', regex=True).astype(float)\n",
    "\n",
    "#Interpolate the boson star (BS) mass profile:\n",
    "def m_boson(data, tau_m):\n",
    "    mtau_cop = data.copy()\n",
    "    \n",
    "    # Scale tau values by tau_m\n",
    "    mtau_cop.iloc[:, 0] = tau_m * mtau_cop.iloc[:, 0]\n",
    "\n",
    "    # Extract columns\n",
    "    tau_pos = mtau_cop.iloc[:, 0].values\n",
    "    m_pos = mtau_cop.iloc[:, 1].values\n",
    "\n",
    "    # Create symmetric negative tau values\n",
    "    tau_neg = -tau_pos\n",
    "    m_neg = m_pos\n",
    "\n",
    "    # Combine: (tau, m), (-tau, m), and (0, 0)\n",
    "    tau_all = np.concatenate([tau_neg, [0.0], tau_pos])\n",
    "    m_all = np.concatenate([m_neg, [0.0], m_pos])\n",
    "\n",
    "    # Sort by tau to ensure interp1d gets ordered input\n",
    "    sorted_idx = np.argsort(tau_all)\n",
    "    tau_sorted = tau_all[sorted_idx]\n",
    "    m_sorted = m_all[sorted_idx]\n",
    "\n",
    "    # Interpolation\n",
    "    mtau_interp = interp1d(tau_sorted, m_sorted, kind='cubic', fill_value='extrapolate')\n",
    "    return mtau_interp\n",
    "\n",
    "def m_prime_boson(data, tau_m):  # derivative of mass profile with respect to tau\n",
    "    m = m_boson(data, tau_m)\n",
    "    return MassDerivative(m)\n",
    "\n",
    "\"\"\"Note: can add other object types here with different mass profiles if desired\"\"\";"
   ]
  },
  {
   "cell_type": "code",
   "execution_count": 47,
   "metadata": {},
   "outputs": [],
   "source": [
    "def m_pl(tau): # point like lens mass profile\n",
    "    return 1.0\n",
    "\n",
    "def m_prime_pl(tau): #derivative of point like lens mass profile\n",
    "    return 0.0"
   ]
  },
  {
   "cell_type": "code",
   "execution_count": 48,
   "metadata": {},
   "outputs": [],
   "source": [
    "#Defining parameters\n",
    "\n",
    "tau_m_val = 1 # R_90/R_E for the boson star\n",
    "\n",
    "mu_r = 3.0 #radial magnification\n",
    "mu_t = 100.0 #tangential magnification\n",
    "\n",
    "u_min = 0 #minimum impact parameter\n",
    "t_E = 1 #Einstein crossing time"
   ]
  },
  {
   "cell_type": "code",
   "execution_count": 49,
   "metadata": {},
   "outputs": [],
   "source": [
    "#Defining value ranges\n",
    "\n",
    "time_step = 0.01\n",
    "timestamps_neg = np.arange(-50, -0.1, time_step) \n",
    "timestamps_pos = np.arange(0.1, 50, time_step)\n",
    "timestamps = np.concatenate((timestamps_neg, [0], timestamps_pos)) #time values to plot lightcurves over\n",
    "\n",
    "tau_values = np.linspace(0.001, 1000, 10000) #tau values to iterate over to find solutions to the lens equation\n",
    "tau_values_CC = np.linspace(0.001, 50, 10000) #tau values to iterate over to find critical curves (and then caustics)\n",
    "\n",
    "phi_values = np.linspace(0, 2 * np.pi, 100) #phi values to plot caustic and critical curves"
   ]
  },
  {
   "cell_type": "code",
   "execution_count": 50,
   "metadata": {},
   "outputs": [],
   "source": [
    "#Defining inverse magnification functions\n",
    "\n",
    "def inverse_magnification(m_func,m_prime_func,tau,phi,mu_r=mu_r, mu_t=mu_t):\n",
    "    return (\n",
    "        (((1/mu_r) - (m_prime_func(tau) / (2.0 * tau)) ) * ((1/mu_t) - (m_prime_func(tau) / (2.0 * tau)) )) -\n",
    "        ((m_prime_func(tau) / (2.0 * tau)) - (m_func(tau) / tau**2))**2 +\n",
    "        (1/mu_r - 1/mu_t) * ((m_prime_func(tau) / (2.0 * tau)) - (m_func(tau) / tau**2))*np.cos(2*phi)\n",
    "    )\n",
    "\n",
    "def inverse_magnification_vec(m_vals, m_prime_vals, tau_values, phi, mu_r=mu_r, mu_t=mu_t): #vectorized version of inverse_magnification\n",
    "    #used to compute caustics\n",
    "    term1 = (1/mu_r - m_prime_vals / (2.0 * tau_values))\n",
    "    term2 = (1/mu_t - m_prime_vals / (2.0 * tau_values))\n",
    "    term3 = (m_prime_vals / (2.0 * tau_values)) - (m_vals / tau_values**2)\n",
    "    return term1 * term2 - term3**2 + (1/mu_r - 1/mu_t) * term3 * np.cos(2 * phi)"
   ]
  },
  {
   "cell_type": "code",
   "execution_count": 51,
   "metadata": {},
   "outputs": [],
   "source": [
    "#Defining functions required to compute lightcurves\n",
    "\n",
    "def lens_eqn(tau, m_func, u1, u2, mu_r=mu_r, mu_t=mu_t): # Lens equation for radial image position(s) tau from source position (u_1, u_2)\n",
    "    R_r = ((tau / mu_r) - (m_func(tau) / tau))\n",
    "    R_t = ((tau / mu_t) - (m_func(tau) / tau))\n",
    "    return (u1 / R_r)**2 + (u2 / R_t)**2 - 1  #Image positions solve this equalling zero\n",
    "\n",
    "def phi_from_tau(tau, m_func, u1, u2, mu_r=mu_r, mu_t=mu_t): # Calculate the azimuthal angle of the image position tau\n",
    "    R_r = ((tau / mu_r) - (m_func(tau) / tau))\n",
    "    R_t = ((tau / mu_t) - (m_func(tau) / tau))\n",
    "    return np.arctan2(u2 / R_t, u1 / R_r) \n",
    "\n",
    "def special_solution_eqn_r(tau, m_func, mu_r=mu_r): # Radial lens equation (for images at phi = 0, pi) for source at (u1,u2) = (0,0)\n",
    "    return tau - np.sqrt(mu_r * m_func(tau))\n",
    "\n",
    "def special_solution_eqn_t(tau, m_func, mu_t=mu_t): # Tangential lens equation (for images at phi = pi/2, 3pi/2) for source at (u1,u2) = (0,0)\n",
    "    return tau - np.sqrt(mu_t * m_func(tau))\n",
    "\n",
    "def source_trajectory(t, u_min=u_min, t_E=t_E): # Source position in the source plane at time t\n",
    "    u1 = t / t_E\n",
    "    u2 = u_min\n",
    "    return u1, u2"
   ]
  },
  {
   "cell_type": "code",
   "execution_count": 52,
   "metadata": {},
   "outputs": [],
   "source": [
    "# Mapping lens to source coordinates\n",
    "def lens_to_source_mapping(m_func,tau,phi,mu_r=mu_r, mu_t=mu_t):\n",
    "    u_1 = ((tau*np.cos(phi)) / mu_r) - ((tau*np.cos(phi))/tau**2)*(m_func(tau))\n",
    "    u_2 = ((tau*np.sin(phi)) / mu_t) - ((tau*np.sin(phi))/tau**2)*(m_func(tau))\n",
    "    return u_1, u_2"
   ]
  },
  {
   "cell_type": "code",
   "execution_count": 53,
   "metadata": {},
   "outputs": [],
   "source": [
    "# Function to compute critical curves for a given mass profile and phi - get caustics from lens to source mapping\n",
    "def compute_critical_curves(m_func, m_prime_func, phi, tau_values_=tau_values_CC,mu_r=mu_r, mu_t=mu_t):\n",
    "\n",
    "    m_vals = np.array([m_func(tau) for tau in tau_values_])\n",
    "    m_prime_vals = np.array([m_prime_func(tau) for tau in tau_values_])\n",
    "\n",
    "    im_vals = inverse_magnification_vec(m_vals, m_prime_vals, tau_values_, phi, mu_r, mu_t)\n",
    "    signs = np.sign(im_vals)\n",
    "    root_idxs = np.where(signs[:-1] * signs[1:] < 0)[0]\n",
    "\n",
    "    roots = []\n",
    "    for i in root_idxs:\n",
    "        wrapper = lambda x: inverse_magnification(m_func, m_prime_func, x, phi, mu_r, mu_t)\n",
    "        a, b = tau_values_[i], tau_values_[i + 1]\n",
    "   \n",
    "        result = root_scalar(wrapper, bracket=[a, b], method='brentq')\n",
    "        if result.converged:\n",
    "            roots.append(result.root)\n",
    "    \n",
    "    return roots, phi"
   ]
  },
  {
   "cell_type": "code",
   "execution_count": 54,
   "metadata": {},
   "outputs": [],
   "source": [
    "# Function to solve the lens equation for a given mass profile over a range of timestamps\n",
    "def lens_eqn_solver(m_func, timestamps_=timestamps,tau_values_=tau_values, mu_r=mu_r, mu_t=mu_t):\n",
    "\n",
    "    all_solutions = []\n",
    "    u1_traj = []\n",
    "    u2_traj = [] # arrays to store trajectory coordinates, required for plotting later\n",
    "\n",
    "    for t in timestamps_: \n",
    "\n",
    "        u1, u2 = source_trajectory(t)\n",
    "        u1_traj.append(u1)\n",
    "        u2_traj.append(u2)\n",
    "\n",
    "        if np.isclose(u1, 0.0, atol=1e-6) and np.isclose(u2, 0.0, atol=1e-6):\n",
    "            \n",
    "            special_solutions = []\n",
    "\n",
    "            special_sol_r = [special_solution_eqn_r(tau, m_func, mu_r) for tau in tau_values_]\n",
    "\n",
    "            for i in range(len(tau_values_)-1):\n",
    "                if special_sol_r[i] * special_sol_r[i+1] < 0:\n",
    "                    a, b = tau_values_[i], tau_values_[i+1]\n",
    "                    sol = root_scalar(special_solution_eqn_r, args=(m_func,mu_r), bracket=[a, b], method='brentq')\n",
    "                    if sol.converged:\n",
    "                        special_solutions.append((sol.root, 0))\n",
    "                        special_solutions.append((sol.root, np.pi))\n",
    "            \n",
    "            special_sol_t = [special_solution_eqn_t(tau, m_func, mu_t) for tau in tau_values_]\n",
    "\n",
    "            for i in range(len(tau_values_)-1):\n",
    "                if special_sol_t[i] * special_sol_t[i+1] < 0:\n",
    "                    a, b = tau_values_[i], tau_values_[i+1]\n",
    "                    sol = root_scalar(special_solution_eqn_t, args=(m_func,mu_t), bracket=[a, b], method='brentq')\n",
    "                    if sol.converged:\n",
    "                        special_solutions.append((sol.root, np.pi/2))\n",
    "                        special_solutions.append((sol.root, 3*np.pi/2))\n",
    "            \n",
    "            all_solutions.append(special_solutions)\n",
    "\n",
    "        else:\n",
    "\n",
    "            lens_eqn_vals = [lens_eqn(tau, m_func, u1, u2, mu_r, mu_t) for tau in tau_values_]\n",
    "            roots = []\n",
    "\n",
    "            for i in range(len(tau_values_) - 1):\n",
    "                if lens_eqn_vals[i] * lens_eqn_vals[i+1] < 0:\n",
    "                    a, b = tau_values_[i], tau_values_[i+1]\n",
    "                    sol = root_scalar(lens_eqn, args=(m_func,u1,u2,mu_r,mu_t), bracket=[a, b], method='brentq')\n",
    "                    if sol.converged:\n",
    "                        root_and_phi = (sol.root, phi_from_tau(sol.root, m_func, u1, u2, mu_r, mu_t))\n",
    "                        roots.append(root_and_phi)\n",
    "\n",
    "            all_solutions.append(roots) \n",
    "\n",
    "\n",
    "    return all_solutions, np.array(u1_traj), np.array(u2_traj)"
   ]
  },
  {
   "cell_type": "code",
   "execution_count": 55,
   "metadata": {},
   "outputs": [],
   "source": [
    "# Function to calculate the lightcurve for a lens with a given mass profile\n",
    "def lightcurve(m_func, m_prime_func, timestamps_=timestamps, tau_values_=tau_values, mu_r=mu_r, mu_t=mu_t):\n",
    "    \n",
    "    all_solutions, u1_traj, u2_traj = lens_eqn_solver(m_func, timestamps_, tau_values_, mu_r, mu_t)\n",
    "\n",
    "    magnifications = []\n",
    "\n",
    "    for solution in all_solutions:\n",
    "        magn_temp = [1/np.abs(inverse_magnification(m_func,m_prime_func,tau,phi,mu_r,mu_t)) for tau, phi in solution]\n",
    "        total_magn = np.sum(magn_temp)\n",
    "        magnifications.append(total_magn)\n",
    "    \n",
    "    return np.array(magnifications), u1_traj, u2_traj"
   ]
  },
  {
   "cell_type": "code",
   "execution_count": 56,
   "metadata": {},
   "outputs": [],
   "source": [
    "# Precompute boson star mass profile and its derivative\n",
    "boson_mass_prof = m_boson(data, tau_m_val)\n",
    "boson_mass_deriv = m_prime_boson(data, tau_m_val)"
   ]
  },
  {
   "cell_type": "code",
   "execution_count": 57,
   "metadata": {},
   "outputs": [],
   "source": [
    "# Boson Star Lightcurve\n",
    "lightcurve_bs, u1_traj, u2_traj = lightcurve(boson_mass_prof, boson_mass_deriv)"
   ]
  },
  {
   "cell_type": "code",
   "execution_count": 58,
   "metadata": {},
   "outputs": [],
   "source": [
    "#Point-like Lens Lightcurve\n",
    "lightcurve_pl, _, _ = lightcurve(m_pl, m_prime_pl)"
   ]
  },
  {
   "cell_type": "code",
   "execution_count": 59,
   "metadata": {},
   "outputs": [],
   "source": [
    "#Boson Star Caustic curve\n",
    "\n",
    "arguments_bs = [(boson_mass_prof, boson_mass_deriv, phi) for phi in phi_values]\n",
    "\n",
    "with Pool() as pool:\n",
    "    critical_curve_results_bs = pool.starmap(compute_critical_curves, arguments_bs)\n",
    "\n",
    "\n",
    "caustic_u1_bs = []\n",
    "caustic_u2_bs = []\n",
    "\n",
    "for roots, phi in critical_curve_results_bs:\n",
    "    for tau in roots:\n",
    "        u1, u2 = lens_to_source_mapping(boson_mass_prof, tau, phi)\n",
    "        caustic_u1_bs.append(u1)\n",
    "        caustic_u2_bs.append(u2)"
   ]
  },
  {
   "cell_type": "code",
   "execution_count": 60,
   "metadata": {},
   "outputs": [],
   "source": [
    "#Point-like lens caustic curve\n",
    "\n",
    "arguments_pl = [(m_pl, m_prime_pl, phi) for phi in phi_values]\n",
    "\n",
    "with Pool() as pool:\n",
    "    critical_curve_results_pl = pool.starmap(compute_critical_curves, arguments_pl)\n",
    "\n",
    "caustic_u1_pl = []\n",
    "caustic_u2_pl = []\n",
    "\n",
    "for roots, phi in critical_curve_results_pl:\n",
    "    for tau in roots:\n",
    "        u1, u2 = lens_to_source_mapping(m_pl, tau, phi)\n",
    "        caustic_u1_pl.append(u1)\n",
    "        caustic_u2_pl.append(u2)"
   ]
  },
  {
   "cell_type": "code",
   "execution_count": 65,
   "metadata": {},
   "outputs": [
    {
     "data": {
      "image/png": "[encoded data removed]",
      "text/plain": [
       "<Figure size 1200x600 with 2 Axes>"
      ]
     },
     "metadata": {},
     "output_type": "display_data"
    }
   ],
   "source": [
    "#Plot the lightcurve and caustic curve with crossing\n",
    "\n",
    "fig, (ax1, ax2) = plt.subplots(1, 2, figsize=(12, 6))\n",
    "\n",
    "ax1.plot(timestamps, lightcurve_pl, color='green', label='Point Lens', linewidth = 3)\n",
    "ax1.plot(timestamps, lightcurve_bs, color='black', label=r'Boson Star ($\\tau_m$ = ' + f'{tau_m_val})')\n",
    "ax1.set_xlabel(r'$t/t_E$', fontsize=20)\n",
    "ax1.set_xlim(-20, 20)\n",
    "ax1.set_ylabel(r'$\\mu$', fontsize=20)\n",
    "ax1.set_yscale('log')\n",
    "ax1.tick_params(axis='both', labelsize=15)\n",
    "ax1.legend(loc='lower left', fontsize='large', frameon=True)\n",
    "ax1.set_title(r'Point-like Lens vs Boson Star ($\\tau_m$ = ' + f'{tau_m_val}) Lightcurves', fontsize=19)\n",
    "\n",
    "ax2.scatter(caustic_u1_pl, caustic_u2_pl, color='green', s=20, label='Point Lens Caustic')\n",
    "ax2.scatter(caustic_u1_bs, caustic_u2_bs, color='black', s=5, label='Boson Star Caustic')\n",
    "ax2.plot(u1_traj, u2_traj, color='red', linewidth=3, label=\"Source Trajectory\")\n",
    "ax2.legend(loc='lower left', fontsize='x-large', frameon=True)\n",
    "ax2.set_xlabel(r\"$u_1$\", fontsize=22)\n",
    "ax2.set_ylabel(r\"$u_2$\", fontsize=22)\n",
    "ax2.tick_params(axis='both', labelsize=15)\n",
    "ax2.set_title(r\"Point-like Lens vs Boson Star ($\\tau_m$ = \" + f'{tau_m_val}) Caustic Curves', fontsize=19)\n",
    "ax2.set_xlim(-4, 4)\n",
    "ax2.set_ylim(-4,4)\n",
    "ax2.grid(True)\n",
    "\n",
    "plt.tight_layout()\n",
    "\n",
    "plt.savefig('/home/bcrossey/Documents/Microlensing/Code/Microcaustics_EDOs/figures/bs_tau_m_1_pl_comparison.png', dpi=300, format='png')"
   ]
  },
  {
   "cell_type": "code",
   "execution_count": 62,
   "metadata": {},
   "outputs": [],
   "source": [
    "# Save timestamps and lightcurve_bs to a CSV file\n",
    "df_lightcurve_bs = pd.DataFrame({'timestamps': timestamps, 'magnifications': lightcurve_bs})\n",
    "df_lightcurve_bs.to_csv('/home/bcrossey/Documents/Microlensing/Code/Microcaustics_EDOs/lightcurves_and_caustics/lightcurve_bs_tau_m_1.csv', index=False)\n",
    "\n",
    "# Save timestamps and lightcurve_pl to a CSV file\n",
    "df_lightcurve_pl = pd.DataFrame({'timestamps': timestamps, 'magnifications': lightcurve_pl})\n",
    "df_lightcurve_pl.to_csv('/home/bcrossey/Documents/Microlensing/Code/Microcaustics_EDOs/lightcurves_and_caustics/lightcurve_pl.csv', index=False)\n",
    "\n",
    "# Save caustic_u1_pl and caustic_u2_pl to a CSV file\n",
    "df_caustic_pl = pd.DataFrame({'u1': caustic_u1_pl, 'u2': caustic_u2_pl})\n",
    "df_caustic_pl.to_csv('/home/bcrossey/Documents/Microlensing/Code/Microcaustics_EDOs/lightcurves_and_caustics/caustic_curve_pl.csv', index=False)\n",
    "\n",
    "# Save caustic_u1_bs and caustic_u2_bs to a CSV file\n",
    "df_caustic_bs = pd.DataFrame({'u1': caustic_u1_bs, 'u2': caustic_u2_bs})\n",
    "df_caustic_bs.to_csv('/home/bcrossey/Documents/Microlensing/Code/Microcaustics_EDOs/lightcurves_and_caustics/caustic_curve_bs_tau_m_1.csv', index=False)"
   ]
  },
  {
   "cell_type": "code",
   "execution_count": null,
   "metadata": {},
   "outputs": [],
   "source": []
  }
 ],
 "metadata": {
  "kernelspec": {
   "display_name": "microcaustics-edos",
   "language": "python",
   "name": "python3"
  },
  "language_info": {
   "codemirror_mode": {
    "name": "ipython",
    "version": 3
   },
   "file_extension": ".py",
   "mimetype": "text/x-python",
   "name": "python",
   "nbconvert_exporter": "python",
   "pygments_lexer": "ipython3",
   "version": "3.13.7"
  }
 },
 "nbformat": 4,
 "nbformat_minor": 2
}
